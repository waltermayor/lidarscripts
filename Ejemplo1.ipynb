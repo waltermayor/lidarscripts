{
  "nbformat": 4,
  "nbformat_minor": 0,
  "metadata": {
    "colab": {
      "name": "Ejemplo1.ipynb",
      "version": "0.3.2",
      "provenance": [],
      "machine_shape": "hm",
      "include_colab_link": true
    },
    "kernelspec": {
      "name": "python3",
      "display_name": "Python 3"
    },
    "accelerator": "TPU"
  },
  "cells": [
    {
      "cell_type": "markdown",
      "metadata": {
        "id": "view-in-github",
        "colab_type": "text"
      },
      "source": [
        "<a href=\"https://colab.research.google.com/github/waltermayor/lidarscripts/blob/master/Ejemplo1.ipynb\" target=\"_parent\"><img src=\"https://colab.research.google.com/assets/colab-badge.svg\" alt=\"Open In Colab\"/></a>"
      ]
    },
    {
      "cell_type": "code",
      "metadata": {
        "id": "lSZffWpWN2Y6",
        "colab_type": "code",
        "colab": {
          "base_uri": "https://localhost:8080/",
          "height": 85
        },
        "outputId": "5ecb04a4-decc-48ca-b46a-f8cea7043d5a"
      },
      "source": [
        "\n",
        "\n",
        "!pip install laspy\n",
        "\n",
        "from google.colab import drive\n",
        "drive.mount('/content/drive')\n",
        "\n",
        "import laspy\n",
        "import scipy\n",
        "import numpy as np\n",
        "import matplotlib.pyplot as plt\n",
        "from sklearn.cluster import DBSCAN\n",
        "from sklearn import metrics\n",
        "from sklearn import preprocessing\n",
        "from mpl_toolkits.mplot3d import Axes3D\n",
        "from matplotlib import path\n",
        "\n",
        "import cv2\n",
        "import os\n",
        "\n",
        "path='/content/drive/My Drive/projectUK/'\n",
        "os.chdir(path)\n",
        "!pwd\n",
        "\n",
        "# graficar imagenes estaticas en el notebook\n",
        "%matplotlib inline"
      ],
      "execution_count": 1,
      "outputs": [
        {
          "output_type": "stream",
          "text": [
            "Requirement already satisfied: laspy in /usr/local/lib/python3.6/dist-packages (1.5.1)\n",
            "Requirement already satisfied: numpy in /usr/local/lib/python3.6/dist-packages (from laspy) (1.16.4)\n",
            "Drive already mounted at /content/drive; to attempt to forcibly remount, call drive.mount(\"/content/drive\", force_remount=True).\n",
            "/content/drive/My Drive/projectUK\n"
          ],
          "name": "stdout"
        }
      ]
    },
    {
      "cell_type": "markdown",
      "metadata": {
        "id": "Y0zjpG6nTE1j",
        "colab_type": "text"
      },
      "source": [
        "# **cargar nube de puntos**"
      ]
    },
    {
      "cell_type": "code",
      "metadata": {
        "id": "J6LhjMU_P_dH",
        "colab_type": "code",
        "colab": {
          "base_uri": "https://localhost:8080/",
          "height": 34
        },
        "outputId": "c5016d18-c34c-477a-d2e3-2de5a11f734a"
      },
      "source": [
        "# Open a file in read mode:\n",
        "inFile = laspy.file.File('LAS/1.las')\n",
        "# Grab a numpy dataset of our clustering dimensions:\n",
        "dataset = np.vstack([inFile.x, inFile.y, inFile.z]).transpose()\n",
        "dataset.shape"
      ],
      "execution_count": 2,
      "outputs": [
        {
          "output_type": "execute_result",
          "data": {
            "text/plain": [
              "(1311463, 3)"
            ]
          },
          "metadata": {
            "tags": []
          },
          "execution_count": 2
        }
      ]
    },
    {
      "cell_type": "markdown",
      "metadata": {
        "id": "N9EXItojUcye",
        "colab_type": "text"
      },
      "source": [
        "# **filtrar en z**"
      ]
    },
    {
      "cell_type": "code",
      "metadata": {
        "id": "77Byi8C9PA56",
        "colab_type": "code",
        "colab": {
          "base_uri": "https://localhost:8080/",
          "height": 85
        },
        "outputId": "9684ef79-3e10-4c79-9b2f-fe487a4bdbbb"
      },
      "source": [
        "%%time\n",
        "def frange(start, stop, step):\n",
        "  i = start\n",
        "  while i < stop:\n",
        "    yield i\n",
        "    i += step\n",
        "#ground points grid filter\n",
        "n = 100 #grid step\n",
        "dataset_Z_filtered = dataset[[0]]\n",
        "zfiltered = (dataset[:, 2].max() - dataset[:, 2].min())/10 #setting height filtered from ground\n",
        "print('zfiltered =', zfiltered)\n",
        "xstep = (dataset[:, 0].max() - dataset[:, 0].min())/n\n",
        "ystep = (dataset[:, 1].max() - dataset[:, 1].min())/n\n",
        "for x in frange (dataset[:, 0].min(), dataset[:, 0].max(), xstep):\n",
        "  for y in frange (dataset[:, 1].min(), dataset[:, 1].max(), ystep):\n",
        "    datasetfiltered = dataset[(dataset[:,0] > x)\n",
        "                             &(dataset[:, 0] < x+xstep)\n",
        "                             &(dataset[:, 1] > y)\n",
        "                             &(dataset[:, 1] < y+ystep)]\n",
        "    if datasetfiltered.shape[0] > 0:\n",
        "      datasetfiltered = datasetfiltered[datasetfiltered[:, 2]\n",
        "                        >(datasetfiltered[:, 2].min()+ zfiltered)]\n",
        "      if datasetfiltered.shape[0] > 0:\n",
        "        dataset_Z_filtered = np.concatenate((dataset_Z_filtered,\n",
        "                                             datasetfiltered))\n",
        "print('dataset_Z_filtered shape', dataset_Z_filtered.shape)"
      ],
      "execution_count": 3,
      "outputs": [
        {
          "output_type": "stream",
          "text": [
            "zfiltered = 2.242\n",
            "dataset_Z_filtered shape (54080, 3)\n",
            "CPU times: user 1min 29s, sys: 4.62 s, total: 1min 33s\n",
            "Wall time: 1min 33s\n"
          ],
          "name": "stdout"
        }
      ]
    },
    {
      "cell_type": "code",
      "metadata": {
        "id": "ZpxfJSg5k7Op",
        "colab_type": "code",
        "colab": {}
      },
      "source": [
        "!ln -sf /opt/bin/nvidia-smi /usr/bin/nvidia-smi\n",
        "!pip install gputil\n",
        "!pip install psutil\n",
        "!pip install humanize\n",
        "import psutil\n",
        "import humanize\n",
        "import os\n",
        "import GPUtil as GPU\n",
        "GPUs = GPU.getGPUs()\n",
        "# XXX: only one GPU on Colab and isn’t guaranteed\n",
        "gpu = GPUs[0]\n",
        "def printm():\n",
        " process = psutil.Process(os.getpid())\n",
        " print(\"Gen RAM Free: \" + humanize.naturalsize( psutil.virtual_memory().available ), \" | Proc size: \" + humanize.naturalsize( process.memory_info().rss))\n",
        " print(\"GPU RAM Free: {0:.0f}MB | Used: {1:.0f}MB | Util {2:3.0f}% | Total {3:.0f}MB\".format(gpu.memoryFree, gpu.memoryUsed, gpu.memoryUtil*100, gpu.memoryTotal))\n",
        "printm()"
      ],
      "execution_count": 0,
      "outputs": []
    },
    {
      "cell_type": "markdown",
      "metadata": {
        "id": "FLJBcSNAUiW9",
        "colab_type": "text"
      },
      "source": [
        "# **mostrar tipos de datos**"
      ]
    },
    {
      "cell_type": "code",
      "metadata": {
        "id": "EhE5JyZlUItV",
        "colab_type": "code",
        "colab": {
          "base_uri": "https://localhost:8080/",
          "height": 187
        },
        "outputId": "4ea1158e-dd03-4863-a675-53cda40618d5"
      },
      "source": [
        "print('Examining Point Format:' )\n",
        "pointformat = inFile.point_format\n",
        "for spec in inFile.point_format:\n",
        "  print(spec.name)"
      ],
      "execution_count": 4,
      "outputs": [
        {
          "output_type": "stream",
          "text": [
            "Examining Point Format:\n",
            "X\n",
            "Y\n",
            "Z\n",
            "intensity\n",
            "flag_byte\n",
            "raw_classification\n",
            "scan_angle_rank\n",
            "user_data\n",
            "pt_src_id\n"
          ],
          "name": "stdout"
        }
      ]
    },
    {
      "cell_type": "markdown",
      "metadata": {
        "id": "mGYJ3ab4UzgI",
        "colab_type": "text"
      },
      "source": [
        "# **estadisticas de la base de datos**"
      ]
    },
    {
      "cell_type": "code",
      "metadata": {
        "id": "xHnJrfgLUv9-",
        "colab_type": "code",
        "colab": {
          "base_uri": "https://localhost:8080/",
          "height": 119
        },
        "outputId": "c98767e0-8398-4bff-a576-eb0a8cfabb2d"
      },
      "source": [
        "print('Z range =', dataset[:, 2].max() - dataset[:, 2].min())\n",
        "print('Z max =', dataset[:, 2].max(), 'Z min =', dataset[:, 2].min())\n",
        "print('Y range =', dataset[:, 1].max() - dataset[:, 1].min())\n",
        "print('Y max =', dataset[:, 1].max(), 'Y min =', dataset[:, 1].min())\n",
        "print('X range =', dataset[:, 0].max() - dataset[:, 0].min())\n",
        "print('X max =', dataset[:, 0].max(), 'X min =', dataset[:, 0].min())"
      ],
      "execution_count": 5,
      "outputs": [
        {
          "output_type": "stream",
          "text": [
            "Z range = 22.419999999999998\n",
            "Z max = 20.31 Z min = -2.11\n",
            "Y range = 1000.0\n",
            "Y max = 296000.0 Y min = 295000.0\n",
            "X range = 1000.0\n",
            "X max = 571000.0 X min = 570000.0\n"
          ],
          "name": "stdout"
        }
      ]
    },
    {
      "cell_type": "markdown",
      "metadata": {
        "id": "tu5wFpEtU-g_",
        "colab_type": "text"
      },
      "source": [
        "\n",
        "# **normalizar dataset (datos con diferentes rangos)**\n",
        "\n"
      ]
    },
    {
      "cell_type": "code",
      "metadata": {
        "id": "gzUpMgfTU-tn",
        "colab_type": "code",
        "colab": {}
      },
      "source": [
        "dataset = preprocessing.normalize(dataset)"
      ],
      "execution_count": 0,
      "outputs": []
    },
    {
      "cell_type": "markdown",
      "metadata": {
        "id": "INPlMThXVQuA",
        "colab_type": "text"
      },
      "source": [
        "# **clustering putnos cercanos**"
      ]
    },
    {
      "cell_type": "code",
      "metadata": {
        "id": "LD5R5SaFVRIw",
        "colab_type": "code",
        "colab": {}
      },
      "source": [
        "clustering = DBSCAN(eps=2, min_samples=5, leaf_size=30).fit(dataset)"
      ],
      "execution_count": 0,
      "outputs": []
    },
    {
      "cell_type": "code",
      "metadata": {
        "id": "fWnqrd4ZXNa3",
        "colab_type": "code",
        "colab": {}
      },
      "source": [
        "core_samples_mask = np.zeros_like(clustering.labels_, dtype=bool)\n",
        "core_samples_mask[clustering.core_sample_indices_] = True\n",
        "labels = clustering.labels_\n",
        "# Number of clusters in labels, ignoring noise if present.\n",
        "n_clusters_ = len(set(labels)) - (1 if -1 in labels else 0)\n",
        "n_noise_ = list(labels).count(-1)\n",
        "print('Estimated number of clusters: %d' % n_clusters_)\n",
        "print('stimated number of noise points: %d' % n_noise_)"
      ],
      "execution_count": 0,
      "outputs": []
    },
    {
      "cell_type": "code",
      "metadata": {
        "id": "CHG51ANvWAUb",
        "colab_type": "code",
        "colab": {}
      },
      "source": [
        "# Black removed and is used for noise instead.\n",
        "fig = plt.figure(figsize=[100, 50])\n",
        "ax = fig.add_subplot(111, projection='3d')\n",
        "unique_labels = set(labels)\n",
        "colors = [plt.cm.Spectral(each)\n",
        "          \n",
        "for each in np.linspace(0, 1, len(unique_labels))]\n",
        "  for k, col in zip(unique_labels, colors):\n",
        "    if k == -1:\n",
        "    # Black used for noise.\n",
        "      col = [0, 0, 0, 1]\n",
        "  class_member_mask = (labels == k)\n",
        "  xyz = dataset[class_member_mask & core_samples_mask]\n",
        "  ax.scatter(xyz[:, 0], xyz[:, 1], xyz[:, 2], c=col, marker=\".\")\n",
        "plt.title('Estimated number of cluster: %d' % n_clusters_)\n",
        "plt.show()"
      ],
      "execution_count": 0,
      "outputs": []
    }
  ]
}