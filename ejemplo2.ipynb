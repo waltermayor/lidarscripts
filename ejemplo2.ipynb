{
  "nbformat": 4,
  "nbformat_minor": 0,
  "metadata": {
    "colab": {
      "name": "ejemplo2.ipynb",
      "version": "0.3.2",
      "provenance": [],
      "include_colab_link": true
    },
    "kernelspec": {
      "name": "python3",
      "display_name": "Python 3"
    }
  },
  "cells": [
    {
      "cell_type": "markdown",
      "metadata": {
        "id": "view-in-github",
        "colab_type": "text"
      },
      "source": [
        "<a href=\"https://colab.research.google.com/github/waltermayor/lidarscripts/blob/master/ejemplo2.ipynb\" target=\"_parent\"><img src=\"https://colab.research.google.com/assets/colab-badge.svg\" alt=\"Open In Colab\"/></a>"
      ]
    },
    {
      "cell_type": "code",
      "metadata": {
        "id": "4Zcc0Cblg8ua",
        "colab_type": "code",
        "colab": {
          "base_uri": "https://localhost:8080/",
          "height": 119
        },
        "outputId": "90ccf515-5366-452b-e72f-afff6cc30053"
      },
      "source": [
        "\n",
        "!pip install whitebox\n",
        "!pip install laspy\n",
        "\n",
        "from google.colab import drive\n",
        "drive.mount('/content/drive')\n",
        "\n",
        "\n",
        "import laspy\n",
        "import scipy\n",
        "import numpy as np\n",
        "import matplotlib.pyplot as plt\n",
        "from sklearn.cluster import DBSCAN\n",
        "from sklearn import metrics\n",
        "from sklearn import preprocessing\n",
        "from mpl_toolkits.mplot3d import Axes3D\n",
        "from matplotlib import path\n",
        "import imageio\n",
        "\n",
        "import cv2\n",
        "import os\n",
        "\n",
        "path='/content/drive/My Drive/projectUK/'\n",
        "os.chdir(path)\n",
        "!pwd\n",
        "\n",
        "# graficar imagenes estaticas en el notebook\n",
        "%matplotlib inline"
      ],
      "execution_count": 6,
      "outputs": [
        {
          "output_type": "stream",
          "text": [
            "Requirement already satisfied: whitebox in /usr/local/lib/python3.6/dist-packages (0.9.0)\n",
            "Requirement already satisfied: Click>=6.0 in /usr/local/lib/python3.6/dist-packages (from whitebox) (7.0)\n",
            "Requirement already satisfied: laspy in /usr/local/lib/python3.6/dist-packages (1.5.1)\n",
            "Requirement already satisfied: numpy in /usr/local/lib/python3.6/dist-packages (from laspy) (1.16.4)\n",
            "Drive already mounted at /content/drive; to attempt to forcibly remount, call drive.mount(\"/content/drive\", force_remount=True).\n",
            "/content/drive/My Drive/projectUK\n"
          ],
          "name": "stdout"
        }
      ]
    },
    {
      "cell_type": "code",
      "metadata": {
        "id": "HMU0mKuyiPw7",
        "colab_type": "code",
        "colab": {
          "base_uri": "https://localhost:8080/",
          "height": 85
        },
        "outputId": "e65db5b1-2a61-4525-cf99-63587fc8eac3"
      },
      "source": [
        "import whitebox\n",
        "wbt = whitebox.WhiteboxTools()"
      ],
      "execution_count": 3,
      "outputs": [
        {
          "output_type": "stream",
          "text": [
            "Downloading WhiteboxTools pre-compiled binary for first time use ...\n",
            "Decompressing WhiteboxTools_linux_amd64.tar.xz ...\n",
            "WhiteboxTools package directory: /usr/local/lib/python3.6/dist-packages/whitebox\n",
            "Downloading testdata ...\n"
          ],
          "name": "stdout"
        }
      ]
    },
    {
      "cell_type": "code",
      "metadata": {
        "id": "J5mJo47wpGtE",
        "colab_type": "code",
        "colab": {
          "base_uri": "https://localhost:8080/",
          "height": 1000
        },
        "outputId": "cb98a706-56a2-4bcd-8cf7-1133a116b56c"
      },
      "source": [
        "wbt.work_dir = path+\"LAS/\"\n",
        "\n",
        "wbt.lidar_idw_interpolation(\n",
        "i=\"1.las\",\n",
        "output=\"myRaster.tif\",\n",
        "parameter=\"elevation\",\n",
        "returns=\"last\",\n",
        "resolution=1.5,\n",
        "weight=0.5,\n",
        "radius=1\n",
        ")\n",
        "\n"
      ],
      "execution_count": 10,
      "outputs": [
        {
          "output_type": "stream",
          "text": [
            "./whitebox_tools --run=\"LidarIdwInterpolation\" --wd=\"/content/drive/My Drive/projectUK/LAS/\" --input='1.las' --output='myRaster.tif' --parameter=elevation --returns=last --resolution=1.5 --weight=0.5 --radius=1 -v\n",
            "\n",
            "************************************\n",
            "* Welcome to LidarIdwInterpolation *\n",
            "************************************\n",
            "Performing interpolation...\n",
            "Reading input LAS file...\n",
            "Binning points: 0%\n",
            "Binning points: 1%\n",
            "Binning points: 2%\n",
            "Binning points: 3%\n",
            "Binning points: 4%\n",
            "Binning points: 5%\n",
            "Binning points: 6%\n",
            "Binning points: 7%\n",
            "Binning points: 8%\n",
            "Binning points: 9%\n",
            "Binning points: 10%\n",
            "Binning points: 11%\n",
            "Binning points: 12%\n",
            "Binning points: 13%\n",
            "Binning points: 14%\n",
            "Binning points: 15%\n",
            "Binning points: 16%\n",
            "Binning points: 17%\n",
            "Binning points: 18%\n",
            "Binning points: 19%\n",
            "Binning points: 20%\n",
            "Binning points: 21%\n",
            "Binning points: 22%\n",
            "Binning points: 23%\n",
            "Binning points: 24%\n",
            "Binning points: 25%\n",
            "Binning points: 26%\n",
            "Binning points: 27%\n",
            "Binning points: 28%\n",
            "Binning points: 29%\n",
            "Binning points: 30%\n",
            "Binning points: 31%\n",
            "Binning points: 32%\n",
            "Binning points: 33%\n",
            "Binning points: 34%\n",
            "Binning points: 35%\n",
            "Binning points: 36%\n",
            "Binning points: 37%\n",
            "Binning points: 38%\n",
            "Binning points: 39%\n",
            "Binning points: 40%\n",
            "Binning points: 41%\n",
            "Binning points: 42%\n",
            "Binning points: 43%\n",
            "Binning points: 44%\n",
            "Binning points: 45%\n",
            "Binning points: 46%\n",
            "Binning points: 47%\n",
            "Binning points: 48%\n",
            "Binning points: 49%\n",
            "Binning points: 50%\n",
            "Binning points: 51%\n",
            "Binning points: 52%\n",
            "Binning points: 53%\n",
            "Binning points: 54%\n",
            "Binning points: 55%\n",
            "Binning points: 56%\n",
            "Binning points: 57%\n",
            "Binning points: 58%\n",
            "Binning points: 59%\n",
            "Binning points: 60%\n",
            "Binning points: 61%\n",
            "Binning points: 62%\n",
            "Binning points: 63%\n",
            "Binning points: 64%\n",
            "Binning points: 65%\n",
            "Binning points: 66%\n",
            "Binning points: 67%\n",
            "Binning points: 68%\n",
            "Binning points: 69%\n",
            "Binning points: 70%\n",
            "Binning points: 71%\n",
            "Binning points: 72%\n",
            "Binning points: 73%\n",
            "Binning points: 74%\n",
            "Binning points: 75%\n",
            "Binning points: 76%\n",
            "Binning points: 77%\n",
            "Binning points: 78%\n",
            "Binning points: 79%\n",
            "Binning points: 80%\n",
            "Binning points: 81%\n",
            "Binning points: 82%\n",
            "Binning points: 83%\n",
            "Binning points: 84%\n",
            "Binning points: 85%\n",
            "Binning points: 86%\n",
            "Binning points: 87%\n",
            "Binning points: 88%\n",
            "Binning points: 89%\n",
            "Binning points: 90%\n",
            "Binning points: 91%\n",
            "Binning points: 92%\n",
            "Binning points: 93%\n",
            "Binning points: 94%\n",
            "Binning points: 95%\n",
            "Binning points: 96%\n",
            "Binning points: 97%\n",
            "Binning points: 98%\n",
            "Binning points: 99%\n",
            "Binning points: 100%\n",
            "Progress: 0%\n",
            "Progress: 1%\n",
            "Progress: 2%\n",
            "Progress: 3%\n",
            "Progress: 4%\n",
            "Progress: 5%\n",
            "Progress: 6%\n",
            "Progress: 7%\n",
            "Progress: 8%\n",
            "Progress: 9%\n",
            "Progress: 10%\n",
            "Progress: 11%\n",
            "Progress: 12%\n",
            "Progress: 13%\n",
            "Progress: 14%\n",
            "Progress: 15%\n",
            "Progress: 16%\n",
            "Progress: 17%\n",
            "Progress: 18%\n",
            "Progress: 19%\n",
            "Progress: 20%\n",
            "Progress: 21%\n",
            "Progress: 22%\n",
            "Progress: 23%\n",
            "Progress: 24%\n",
            "Progress: 25%\n",
            "Progress: 26%\n",
            "Progress: 27%\n",
            "Progress: 28%\n",
            "Progress: 29%\n",
            "Progress: 30%\n",
            "Progress: 31%\n",
            "Progress: 32%\n",
            "Progress: 33%\n",
            "Progress: 34%\n",
            "Progress: 35%\n",
            "Progress: 36%\n",
            "Progress: 37%\n",
            "Progress: 38%\n",
            "Progress: 39%\n",
            "Progress: 40%\n",
            "Progress: 41%\n",
            "Progress: 42%\n",
            "Progress: 43%\n",
            "Progress: 44%\n",
            "Progress: 45%\n",
            "Progress: 46%\n",
            "Progress: 47%\n",
            "Progress: 48%\n",
            "Progress: 49%\n",
            "Progress: 50%\n",
            "Progress: 51%\n",
            "Progress: 52%\n",
            "Progress: 53%\n",
            "Progress: 54%\n",
            "Progress: 55%\n",
            "Progress: 56%\n",
            "Progress: 57%\n",
            "Progress: 58%\n",
            "Progress: 59%\n",
            "Progress: 60%\n",
            "Progress: 61%\n",
            "Progress: 62%\n",
            "Progress: 63%\n",
            "Progress: 64%\n",
            "Progress: 65%\n",
            "Progress: 66%\n",
            "Progress: 67%\n",
            "Progress: 68%\n",
            "Progress: 69%\n",
            "Progress: 70%\n",
            "Progress: 71%\n",
            "Progress: 72%\n",
            "Progress: 73%\n",
            "Progress: 74%\n",
            "Progress: 75%\n",
            "Progress: 76%\n",
            "Progress: 77%\n",
            "Progress: 78%\n",
            "Progress: 79%\n",
            "Progress: 80%\n",
            "Progress: 81%\n",
            "Progress: 82%\n",
            "Progress: 83%\n",
            "Progress: 84%\n",
            "Progress: 85%\n",
            "Progress: 86%\n",
            "Progress: 87%\n",
            "Progress: 88%\n",
            "Progress: 89%\n",
            "Progress: 90%\n",
            "Progress: 91%\n",
            "Progress: 92%\n",
            "Progress: 93%\n",
            "Progress: 94%\n",
            "Progress: 95%\n",
            "Progress: 96%\n",
            "Progress: 97%\n",
            "Progress: 98%\n",
            "Progress: 99%\n",
            "Progress: 100%\n",
            "Saving data...\n",
            "Finished interpolating 1 (1 of 1)\n",
            "Progress: -2147483648%\n",
            "Elapsed Time (including I/O): 2.813s\n"
          ],
          "name": "stdout"
        },
        {
          "output_type": "execute_result",
          "data": {
            "text/plain": [
              "0"
            ]
          },
          "metadata": {
            "tags": []
          },
          "execution_count": 10
        }
      ]
    },
    {
      "cell_type": "code",
      "metadata": {
        "id": "-I40Y8H0qTI2",
        "colab_type": "code",
        "colab": {
          "base_uri": "https://localhost:8080/",
          "height": 269
        },
        "outputId": "a82f87dc-80c2-4ab7-ef30-957a383e09a8"
      },
      "source": [
        "raster = imageio.imread(os.path.join( path+\"LAS/\", 'myRaster.tif'))\n",
        "plt.imshow(raster)\n",
        "plt.show()"
      ],
      "execution_count": 12,
      "outputs": [
        {
          "output_type": "display_data",
          "data": {
            "image/png": "[encoded data removed]",
            "text/plain": [
              "<Figure size 432x288 with 1 Axes>"
            ]
          },
          "metadata": {
            "tags": []
          }
        }
      ]
    }
  ]
}